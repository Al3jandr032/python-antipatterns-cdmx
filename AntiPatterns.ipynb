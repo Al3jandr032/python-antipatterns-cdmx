{
 "cells": [
  {
   "cell_type": "markdown",
   "metadata": {},
   "source": [
    "# Python Anti patterns "
   ]
  },
  {
   "cell_type": "markdown",
   "metadata": {},
   "source": [
    "## correctness\n"
   ]
  },
  {
   "cell_type": "markdown",
   "metadata": {},
   "source": [
    "### No exception type(s) specified\n",
    "The function divide simply divides a by b. To avoid invalid calculations (e.g., a division by zero), a try-except block is added. This is valid and ensures that the function always returns a result. However, by securing your code with the try clause, you might hide actual programming errors, e.g., that you pass a string or an object as b, instead of a number. By not specifying an exception type, you not only hide this error but you also lose information about the error itself."
   ]
  },
  {
   "cell_type": "markdown",
   "metadata": {},
   "source": [
    "#### Anti-pattern"
   ]
  },
  {
   "cell_type": "code",
   "execution_count": null,
   "metadata": {},
   "outputs": [],
   "source": [
    "def divide(a, b):\n",
    "    try:\n",
    "        result = a / b\n",
    "    except:\n",
    "        result = None\n",
    "    return result\n"
   ]
  },
  {
   "cell_type": "code",
   "execution_count": null,
   "metadata": {},
   "outputs": [],
   "source": [
    "result = divide(92,0)\n",
    "result"
   ]
  },
  {
   "cell_type": "markdown",
   "metadata": {},
   "source": [
    "#### Best practice"
   ]
  },
  {
   "cell_type": "code",
   "execution_count": null,
   "metadata": {},
   "outputs": [],
   "source": [
    "def divide(a, b):\n",
    "    result = None\n",
    "    try:\n",
    "        result = a / b\n",
    "    except ZeroDivisionError:\n",
    "        print(\"Type error: division by 0.\")\n",
    "    except TypeError:\n",
    "        # E.g., if b is a None\n",
    "        print(\"Type error: division by '{0}'.\".format(b))\n",
    "    except Exception as e:\n",
    "        # handle any other exception\n",
    "        print(\"Error '{0}' occured. Arguments {1}.\".format(e.message, e.args))\n",
    "    else:\n",
    "        # Excecutes if no exception occured\n",
    "        print(\"No errors\")\n",
    "    finally:\n",
    "        # Executes always\n",
    "        if result is None:\n",
    "            result = 0\n",
    "    return result"
   ]
  },
  {
   "cell_type": "code",
   "execution_count": null,
   "metadata": {},
   "outputs": [],
   "source": [
    "result = divide(92,2)\n",
    "result"
   ]
  },
  {
   "cell_type": "code",
   "execution_count": null,
   "metadata": {},
   "outputs": [],
   "source": [
    "from typing import Optional\n",
    "from numbers import Number\n",
    "\n",
    "def divide(a: Number, b: Number) -> Optional[float]:\n",
    "    \"\"\"Divide two numbers safely handling different types of exceptions.\n",
    "\n",
    "    This function performs division between two numbers and handles various exceptions\n",
    "    that might occur during the operation.\n",
    "\n",
    "    Args:\n",
    "        a (Number): The dividend (numerator) for the division\n",
    "        b (Number): The divisor (denominator) for the division\n",
    "\n",
    "    Returns:\n",
    "        Optional[float]: The result of the division a/b. Returns 0 if any error occurs.\n",
    "\n",
    "    Raises:\n",
    "        ZeroDivisionError: If b is 0\n",
    "        TypeError: If any of the inputs is not a number or is None\n",
    "        Exception: For any other unexpected errors\n",
    "\n",
    "    Examples:\n",
    "        >>> divide(10, 2)\n",
    "        5.0\n",
    "        >>> divide(10, 0)  # Returns 0, prints error message\n",
    "        0\n",
    "        >>> divide(10, None)  # Returns 0, prints error message\n",
    "        0\n",
    "    \"\"\"\n",
    "    result: Optional[float] = None\n",
    "    try:\n",
    "        result = float(a / b)\n",
    "    except ZeroDivisionError:\n",
    "        print(\"Type error: division by 0.\")\n",
    "    except TypeError:\n",
    "        # E.g., if b is a None\n",
    "        print(\"Type error: division by '{0}'.\".format(b))\n",
    "    except Exception as e:\n",
    "        # handle any other exception\n",
    "        print(\"Error '{0}' occurred. Arguments {1}.\".format(str(e), e.args))\n",
    "    else:\n",
    "        # Executes if no exception occurred\n",
    "        print(\"No errors\")\n",
    "    finally:\n",
    "        # Executes always\n",
    "        if result is None:\n",
    "            result = 0\n",
    "    return result"
   ]
  },
  {
   "cell_type": "code",
   "execution_count": null,
   "metadata": {},
   "outputs": [],
   "source": [
    "\n",
    "result = divide(92,0)\n",
    "result"
   ]
  },
  {
   "cell_type": "markdown",
   "metadata": {},
   "source": [
    "## Maintainability"
   ]
  },
  {
   "cell_type": "markdown",
   "metadata": {},
   "source": [
    "### Not using with to open files\n",
    "In Python 2.5, the file class was equipped with special methods that are automatically called whenever a file is opened via a with statement (e.g. with open(\"file.txt\", \"r\") as file). These special methods ensure that the file is properly and safely opened and closed."
   ]
  },
  {
   "cell_type": "markdown",
   "metadata": {},
   "source": [
    "#### Anti-pattern"
   ]
  },
  {
   "cell_type": "code",
   "execution_count": null,
   "metadata": {},
   "outputs": [],
   "source": [
    "f = open(\"file.txt\", \"r\")\n",
    "content = f.read()\n",
    "1 / 0 # ZeroDivisionError\n",
    "# never executes, possible memory issues or file corruption\n",
    "f.close()"
   ]
  },
  {
   "cell_type": "markdown",
   "metadata": {},
   "source": [
    "#### Best practice"
   ]
  },
  {
   "cell_type": "code",
   "execution_count": null,
   "metadata": {},
   "outputs": [],
   "source": [
    "with open(\"file.txt\", \"r\") as f:\n",
    "    content = f.read()\n",
    "    # Python still executes f.close() even though an exception occurs\n",
    "    1 / 0"
   ]
  },
  {
   "cell_type": "code",
   "execution_count": null,
   "metadata": {},
   "outputs": [],
   "source": [
    "from typing import Any, Dict, Union\n",
    "from pathlib import Path\n",
    "import json\n",
    "import logging\n",
    "from json.decoder import JSONDecodeError\n",
    "\n",
    "def read_json_file(file_path: Union[str, Path]) -> Dict[str, Any]:\n",
    "    \"\"\"Read and parse a JSON file, handling potential errors gracefully.\n",
    "\n",
    "    This function attempts to read and parse a JSON file from the given path.\n",
    "    It handles various potential errors including file not found, permission issues,\n",
    "    and invalid JSON format. In case of any error, it returns an empty dictionary\n",
    "    and logs the error.\n",
    "\n",
    "    Args:\n",
    "        file_path (Union[str, Path]): Path to the JSON file. Can be either a string\n",
    "            or a Path object.\n",
    "\n",
    "    Returns:\n",
    "        Dict[str, Any]: The parsed JSON content as a dictionary. Returns an empty\n",
    "            dictionary in case of any error.\n",
    "\n",
    "    Raises:\n",
    "        No exceptions are raised as they are caught and logged internally.\n",
    "\n",
    "    Examples:\n",
    "        >>> data = read_json_file(\"config.json\")\n",
    "        >>> if data:  # Check if data was loaded successfully\n",
    "        ...     print(data[\"setting\"])\n",
    "        >>> # Handle empty case\n",
    "        >>> data = read_json_file(\"nonexistent.json\")  # Returns {}\n",
    "\n",
    "    Note:\n",
    "        The function will log errors using the logging module instead of raising\n",
    "        exceptions. Make sure to configure logging if you want to capture these\n",
    "        messages.\n",
    "    \"\"\"\n",
    "\n",
    "    file_path = Path(file_path)\n",
    "    result: Dict[str, Any] = {}\n",
    "    \n",
    "    try:\n",
    "        with Path(file_path).open('r', encoding='utf-8') as file:\n",
    "            result = json.load(file)\n",
    "    except FileNotFoundError:\n",
    "        logging.error(f\"File not found: {file_path}\")\n",
    "    except PermissionError:\n",
    "        logging.error(f\"Permission denied accessing file: {file_path}\")\n",
    "    except JSONDecodeError as e:\n",
    "        logging.error(f\"Invalid JSON format in {file_path}: {str(e)}\")\n",
    "    except UnicodeDecodeError:\n",
    "        logging.error(f\"File encoding error in {file_path}. Expected UTF-8\")\n",
    "    except IsADirectoryError:\n",
    "        logging.error(f\"Path is a directory, not a file: {file_path}\")\n",
    "    except Exception as e:\n",
    "        logging.error(f\"Unexpected error reading {file_path}: {str(e)}\")\n",
    "    \n",
    "    return result"
   ]
  },
  {
   "cell_type": "markdown",
   "metadata": {},
   "source": [
    "## Readability"
   ]
  },
  {
   "cell_type": "markdown",
   "metadata": {},
   "source": [
    "### Not using named tuples when returning more than one value from a function\n",
    "Named tuples can be used anywhere where normal tuples are acceptable, but their values can be accessed through their names in addition to their indexes. This makes the code more verbose and readable."
   ]
  },
  {
   "cell_type": "markdown",
   "metadata": {},
   "source": [
    "#### Anti-pattern\n",
    "\n",
    "The code below returns a first name, middle name, and last name using a normal, unnamed tuple. After calling the tuple, each value can only be returned via an index. \n",
    "This code is difficult to use: the caller of the function has to know that the first element is the first name, the second is the middle name, and the third is the last name."
   ]
  },
  {
   "cell_type": "code",
   "execution_count": null,
   "metadata": {},
   "outputs": [],
   "source": [
    "def get_name():\n",
    "    return \"Richard\", \"Xavier\", \"Jones\"\n",
    "\n",
    "name = get_name()\n",
    "\n",
    "# no idea what these indexes map to!\n",
    "print(name[0], name[1], name[2])"
   ]
  },
  {
   "cell_type": "markdown",
   "metadata": {},
   "source": [
    "#### Best practice"
   ]
  },
  {
   "cell_type": "code",
   "execution_count": null,
   "metadata": {},
   "outputs": [],
   "source": [
    "from collections import namedtuple\n",
    "\n",
    "def get_name():\n",
    "    name = namedtuple(\"name\", [\"first\", \"middle\", \"last\"])\n",
    "    return name(\"Richard\", \"Xavier\", \"Jones\")\n",
    "\n",
    "name = get_name()\n",
    "\n",
    "# much easier to read\n",
    "print(name.first, name.middle, name.last)"
   ]
  },
  {
   "cell_type": "code",
   "execution_count": null,
   "metadata": {},
   "outputs": [],
   "source": [
    "from typing import NamedTuple, Union, Tuple\n",
    "\n",
    "class RGB(NamedTuple):\n",
    "    \"\"\"Named tuple representing RGB color values.\n",
    "    \n",
    "    Attributes:\n",
    "        red (int): Red component (0-255)\n",
    "        green (int): Green component (0-255)\n",
    "        blue (int): Blue component (0-255)\n",
    "    \"\"\"\n",
    "    red: int\n",
    "    green: int\n",
    "    blue: int\n",
    "\n",
    "def parse_color(\n",
    "    color: Union[str, Tuple[int, int, int], str]\n",
    ") -> RGB:\n",
    "    \"\"\"Convert different color formats to RGB named tuple.\n",
    "\n",
    "    Converts hex colors or RGB tuples to a standardized RGB named tuple.\n",
    "    Ensures all values are within valid range (0-255).\n",
    "\n",
    "    Args:\n",
    "        color: Input color in any of these formats:\n",
    "            - Hex string: \"#FF0000\" or \"FF0000\"\n",
    "            - RGB tuple: (255, 0, 0)\n",
    "            - Color name: \"red\", \"blue\", \"green\"\n",
    "\n",
    "    Returns:\n",
    "        RGB: Named tuple with red, green, and blue values\n",
    "\n",
    "    Examples:\n",
    "        >>> color = parse_color(\"#FF0000\")\n",
    "        >>> print(f\"Red: {color.red}, Green: {color.green}, Blue: {color.blue}\")\n",
    "        Red: 255, Green: 0, Blue: 0\n",
    "        \n",
    "        >>> rgb = parse_color((100, 150, 200))\n",
    "        >>> print(rgb)\n",
    "        RGB(red=100, green=150, blue=200)\n",
    "    \"\"\"\n",
    "    # Basic color dictionary\n",
    "    COLOR_NAMES = {\n",
    "        'red': (255, 0, 0),\n",
    "        'green': (0, 255, 0),\n",
    "        'blue': (0, 0, 255),\n",
    "        'white': (255, 255, 255),\n",
    "        'black': (0, 0, 0),\n",
    "    }\n",
    "    \n",
    "    try:\n",
    "        # Handle hex strings\n",
    "        if isinstance(color, str):\n",
    "            # Remove '#' if present\n",
    "            color = color.lstrip('#').lower()\n",
    "            \n",
    "            # Handle color names\n",
    "            if color in COLOR_NAMES:\n",
    "                return RGB(*COLOR_NAMES[color])\n",
    "            \n",
    "            # Convert hex to RGB\n",
    "            if len(color) == 6:\n",
    "                r = int(color[0:2], 16)\n",
    "                g = int(color[2:4], 16)\n",
    "                b = int(color[4:6], 16)\n",
    "                return RGB(r, g, b)\n",
    "        \n",
    "        # Handle RGB tuples\n",
    "        elif isinstance(color, tuple) and len(color) == 3:\n",
    "            r, g, b = [max(0, min(255, c)) for c in color]  # Clamp values\n",
    "            return RGB(r, g, b)\n",
    "            \n",
    "        raise ValueError(\"Invalid color format\")\n",
    "        \n",
    "    except Exception as e:\n",
    "        # Return black on error\n",
    "        return RGB(0, 0, 0)"
   ]
  },
  {
   "cell_type": "code",
   "execution_count": null,
   "metadata": {},
   "outputs": [],
   "source": [
    "# Using hex color\n",
    "red = parse_color(\"#FF0000\")\n",
    "print(f\"Red color: {red}\")  # RGB(red=255, green=0, blue=0)\n",
    "\n",
    "# Using RGB tuple\n",
    "custom = parse_color((100, 150, 200))\n",
    "print(f\"Custom color: {custom}\")  # RGB(red=100, green=150, blue=200)\n",
    "\n",
    "# Using color name\n",
    "blue = parse_color(\"blue\")\n",
    "print(f\"Blue values - R: {blue.red}, G: {blue.green}, B: {blue.blue}\")\n",
    "\n",
    "# Access individual components\n",
    "print(f\"Red component: {custom.red}\")\n",
    "print(f\"Green component: {custom.green}\")\n",
    "print(f\"Blue component: {custom.blue}\")\n",
    "\n",
    "# Error handling\n",
    "invalid = parse_color(\"not a color\")\n",
    "print(f\"Invalid color returns black: {invalid}\")  # Returns RGB(0, 0, 0)"
   ]
  },
  {
   "cell_type": "markdown",
   "metadata": {},
   "source": [
    "## Performance & security"
   ]
  },
  {
   "cell_type": "markdown",
   "metadata": {},
   "source": [
    "### Using key in list to check if key is contained in list\n",
    "Using key in list to iterate through a list can potentially take n iterations to complete, where n is the number of items in the list. If possible, you should change the list to a set or dictionary instead, because Python can search for items in a set or dictionary by attempting to directly accessing them without iterations, which is much more efficient."
   ]
  },
  {
   "cell_type": "markdown",
   "metadata": {},
   "source": [
    "#### Anti-pattern"
   ]
  },
  {
   "cell_type": "code",
   "execution_count": null,
   "metadata": {},
   "outputs": [],
   "source": [
    "l = [1, 2, 3, 4]\n",
    "\n",
    "# iterates over three elements in the list\n",
    "if 0 in l:\n",
    "    print(\"The number 3 is in the list.\")\n",
    "else:\n",
    "    print(\"The number 3 is NOT in the list.\")"
   ]
  },
  {
   "cell_type": "markdown",
   "metadata": {},
   "source": [
    "#### Best practice\n",
    "\n",
    "**Use a set or dictionary instead of a list**"
   ]
  },
  {
   "cell_type": "code",
   "execution_count": null,
   "metadata": {},
   "outputs": [],
   "source": [
    "s = set([1, 2, 3, 4])\n",
    "\n",
    "if 3 in s:\n",
    "    print(\"The number 3 is in the list.\")\n",
    "else:\n",
    "    print(\"The number 3 is NOT in the list.\")"
   ]
  },
  {
   "cell_type": "markdown",
   "metadata": {},
   "source": [
    "### use of exec"
   ]
  },
  {
   "cell_type": "code",
   "execution_count": null,
   "metadata": {},
   "outputs": [],
   "source": [
    "s = \"print(\\\"Hello, World!\\\")\"\n",
    "exec(s)"
   ]
  },
  {
   "cell_type": "code",
   "execution_count": null,
   "metadata": {},
   "outputs": [],
   "source": [
    "def print_hello_world():\n",
    "    print(\"Hello, World!\")\n",
    "\n",
    "print_hello_world()"
   ]
  },
  {
   "cell_type": "markdown",
   "metadata": {},
   "source": [
    "```python\n",
    "for key, val in values:\n",
    "    fieldName = valueToFieldName[key]\n",
    "    fieldType = fieldNameToType[fieldName]\n",
    "    if fieldType is int:\n",
    "        s = 'object.%s = int(%s)' % (fieldName, fieldType) \n",
    "    #Many clauses like this...\n",
    "\n",
    "exec(s)\n",
    "```"
   ]
  }
 ],
 "metadata": {
  "kernelspec": {
   "display_name": "Python 3",
   "language": "python",
   "name": "python3"
  },
  "language_info": {
   "codemirror_mode": {
    "name": "ipython",
    "version": 3
   },
   "file_extension": ".py",
   "mimetype": "text/x-python",
   "name": "python",
   "nbconvert_exporter": "python",
   "pygments_lexer": "ipython3",
   "version": "3.11.10"
  }
 },
 "nbformat": 4,
 "nbformat_minor": 2
}
